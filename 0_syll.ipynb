{
 "cells": [
  {
   "cell_type": "markdown",
   "id": "57d48710",
   "metadata": {},
   "source": [
    "- Into **Data Visualization**: ggplot2, plotly\n",
    "- Into **Data Import & Export**: readr, readxl, writexl, jsonlite\n",
    "- Into **Data Cleaning**: janitor::clean_names(), stringr, lubridate\n",
    "- Into **Modeling**: lm(), caret, tidymodels"
   ]
  },
  {
   "cell_type": "markdown",
   "id": "93d0e8d6",
   "metadata": {},
   "source": []
  }
 ],
 "metadata": {
  "language_info": {
   "name": "python"
  }
 },
 "nbformat": 4,
 "nbformat_minor": 5
}
