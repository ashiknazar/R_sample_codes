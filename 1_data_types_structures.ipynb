{
 "cells": [
  {
   "cell_type": "markdown",
   "id": "d884f22c",
   "metadata": {},
   "source": [
    "```r\n",
    "# Numeric\n",
    "x <- 42          # assign 42 to x\n",
    "y <- 3.14\n",
    "\n",
    "# Character\n",
    "name <- \"Alice\"\n",
    "\n",
    "# Logical\n",
    "is_raining <- FALSE\n",
    "\n",
    "# Check data types\n",
    "class(x)        # \"numeric\"\n",
    "class(name)     # \"character\"\n",
    "class(is_raining) # \"logical\"\n"
   ]
  },
  {
   "cell_type": "markdown",
   "id": "48ff3963",
   "metadata": {},
   "source": [
    "___"
   ]
  },
  {
   "cell_type": "markdown",
   "id": "4470d844",
   "metadata": {},
   "source": [
    "###  Vectors – The Building Block\n",
    "```r\n",
    "# A vector is a sequence of data elements\n",
    "nums <- c(1, 2, 3, 4, 5)\n",
    "chars <- c(\"a\", \"b\", \"c\")\n",
    "\n",
    "# Vector operations\n",
    "nums + 1\n",
    "sum(nums)\n",
    "mean(nums)\n",
    "\n"
   ]
  },
  {
   "cell_type": "markdown",
   "id": "8973ff61",
   "metadata": {},
   "source": [
    "___"
   ]
  },
  {
   "cell_type": "markdown",
   "id": "fe0130d0",
   "metadata": {},
   "source": [
    "### list"
   ]
  },
  {
   "cell_type": "markdown",
   "id": "4bfd3d6f",
   "metadata": {},
   "source": [
    "```r\n",
    "my_list <- list(name = \"Alice\", age = 30, scores = c(90, 85, 88))\n",
    "my_list$name\n",
    "my_list$scores[2]"
   ]
  },
  {
   "cell_type": "markdown",
   "id": "8818f1d5",
   "metadata": {},
   "source": [
    "___"
   ]
  },
  {
   "cell_type": "markdown",
   "id": "ff538798",
   "metadata": {},
   "source": [
    "### matrix"
   ]
  },
  {
   "cell_type": "markdown",
   "id": "8fba7d4a",
   "metadata": {},
   "source": [
    "```r\n",
    "my_matrix <- matrix(1:9, nrow = 3, ncol = 3)\n",
    "my_matrix[2, 3]   # Access row 2, column 3\n"
   ]
  },
  {
   "cell_type": "markdown",
   "id": "4dd1fab8",
   "metadata": {},
   "source": [
    "___\n",
    "### Array\n",
    "```r \n",
    "my_array <- array(1:24, dim = c(3, 4, 2))  # 3 rows, 4 cols, 2 layers\n",
    "my_array[1, 2, 1]  # First layer, row 1, column 2\n"
   ]
  },
  {
   "cell_type": "markdown",
   "id": "1127efe9",
   "metadata": {},
   "source": [
    "___"
   ]
  },
  {
   "cell_type": "markdown",
   "id": "7272f1f7",
   "metadata": {},
   "source": [
    "### data frame"
   ]
  },
  {
   "cell_type": "markdown",
   "id": "421bc500",
   "metadata": {},
   "source": [
    "```r\n",
    "name <- c(\"Alice\", \"Bob\", \"Charlie\")\n",
    "age <- c(25, 30, 28)\n",
    "is_student <- c(TRUE, FALSE, TRUE)\n",
    "df<- data.frame(name,age,is_student)\n"
   ]
  },
  {
   "cell_type": "markdown",
   "id": "d7497a7e",
   "metadata": {},
   "source": [
    "#### accessing\n",
    "- df$name\n",
    "- df$age\n",
    "- row by index\n",
    "  - df[1,]\n",
    "- row 2, col 3\n",
    "  - df[2,3]\n",
    "- df[,\"is_student\"]\n"
   ]
  },
  {
   "cell_type": "markdown",
   "id": "3130b8dd",
   "metadata": {},
   "source": [
    "___"
   ]
  },
  {
   "cell_type": "markdown",
   "id": "56aad632",
   "metadata": {},
   "source": [
    "### filter rows\n",
    "```r\n",
    "\n",
    "df[df$is_student==TRUE,]\n",
    "df[df$age>26,]"
   ]
  },
  {
   "cell_type": "markdown",
   "id": "a28dd1e2",
   "metadata": {},
   "source": []
  }
 ],
 "metadata": {
  "language_info": {
   "name": "python"
  }
 },
 "nbformat": 4,
 "nbformat_minor": 5
}
