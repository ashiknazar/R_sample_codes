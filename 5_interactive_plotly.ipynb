{
 "cells": [
  {
   "cell_type": "markdown",
   "id": "3b7a5122",
   "metadata": {},
   "source": [
    "- install.packages(\"plotly\")\n",
    "- library(plotly)"
   ]
  },
  {
   "cell_type": "markdown",
   "id": "f511f836",
   "metadata": {},
   "source": [
    "___"
   ]
  },
  {
   "cell_type": "markdown",
   "id": "acc04f8f",
   "metadata": {},
   "source": [
    "```r\n",
    "library(ggplot2)\n",
    "library(plotly)\n",
    "\n",
    "p <- ggplot(mtcars, aes(x = wt, y = mpg)) +\n",
    "  geom_point(aes(color = factor(cyl))) +\n",
    "  labs(title = \"MPG vs Weight\", x = \"Weight\", y = \"Miles per Gallon\")\n",
    "\n",
    "ggplotly(p)\n"
   ]
  },
  {
   "cell_type": "markdown",
   "id": "d3f1fe6a",
   "metadata": {},
   "source": []
  }
 ],
 "metadata": {
  "language_info": {
   "name": "python"
  }
 },
 "nbformat": 4,
 "nbformat_minor": 5
}
