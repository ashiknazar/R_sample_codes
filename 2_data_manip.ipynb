{
 "cells": [
  {
   "cell_type": "markdown",
   "id": "69f7d34a",
   "metadata": {},
   "source": [
    "```r\n",
    "\n",
    "my_data <- read.csv(\"data.csv\")\n",
    "# Check top rows\n",
    "head(my_data)\n",
    "\n",
    "# View structure\n",
    "str(my_data)"
   ]
  },
  {
   "cell_type": "markdown",
   "id": "eceb2682",
   "metadata": {},
   "source": [
    "### summary functions\n",
    "```r\n",
    "\n",
    "summary(df)   # Summary of all columns\n",
    "nrow(df)      # Number of rows\n",
    "ncol(df)      # Number of columns\n",
    "names(df)     # Column names\n"
   ]
  },
  {
   "cell_type": "markdown",
   "id": "fd73236b",
   "metadata": {},
   "source": [
    "___"
   ]
  },
  {
   "cell_type": "markdown",
   "id": "011040b8",
   "metadata": {},
   "source": [
    "### data manipulation"
   ]
  },
  {
   "cell_type": "markdown",
   "id": "ca14cb07",
   "metadata": {},
   "source": [
    "```r\n",
    "install.packages(\"dplyr\") #install once\n",
    "library(dplyr) #load every time\n"
   ]
  },
  {
   "cell_type": "markdown",
   "id": "e9552e2e",
   "metadata": {},
   "source": [
    "___"
   ]
  },
  {
   "cell_type": "markdown",
   "id": "35819e27",
   "metadata": {},
   "source": [
    "```r\n",
    "df <- data.frame(name=c(\"alice\",\"bob\",\"diana\"),\n",
    "                 age=c(20,30,28),\n",
    "                 score=c(34,55,66))\n",
    "\n"
   ]
  },
  {
   "cell_type": "markdown",
   "id": "e2c67119",
   "metadata": {},
   "source": [
    "___"
   ]
  },
  {
   "cell_type": "markdown",
   "id": "f345e737",
   "metadata": {},
   "source": [
    "### select rows"
   ]
  },
  {
   "cell_type": "markdown",
   "id": "bc1f99e5",
   "metadata": {},
   "source": [
    "```r\n",
    "df %>% filter(age>25)\n",
    "df %>% filter(passed == TRUE)"
   ]
  },
  {
   "cell_type": "markdown",
   "id": "f46258e2",
   "metadata": {},
   "source": [
    "### mutate Add or change columns"
   ]
  },
  {
   "cell_type": "markdown",
   "id": "f2686f8c",
   "metadata": {},
   "source": [
    "```r\n",
    "df %>% mutate(new_score = score + 5)\n",
    "df %>% mutate(status = ifelse(passed, \"Yes\", \"No\"))"
   ]
  },
  {
   "cell_type": "markdown",
   "id": "3de0c5da",
   "metadata": {},
   "source": [
    "### arrange() – Sort rows"
   ]
  },
  {
   "cell_type": "markdown",
   "id": "4506083a",
   "metadata": {},
   "source": [
    "```r\n",
    "df %>% arrange(age)         # Ascending\n",
    "df %>% arrange(desc(score)) # Descending\n",
    "\n"
   ]
  },
  {
   "cell_type": "markdown",
   "id": "ff9c76b9",
   "metadata": {},
   "source": [
    "___"
   ]
  },
  {
   "cell_type": "markdown",
   "id": "2a5cfcdf",
   "metadata": {},
   "source": [
    "### 5. summarise() and group_by() – Group + Aggregate"
   ]
  },
  {
   "cell_type": "markdown",
   "id": "0415002b",
   "metadata": {},
   "source": [
    "```r\n",
    "df %>%\n",
    "  group_by(group) %>%\n",
    "  summarise(avg_score = mean(score), count = n())\n"
   ]
  },
  {
   "cell_type": "markdown",
   "id": "c79ed193",
   "metadata": {},
   "source": [
    "#### Step 1: `df %>%`\n",
    "- This is the start of a pipe.\n",
    "- it says:\"Take the data frame df and pass it to the next function.\""
   ]
  },
  {
   "cell_type": "markdown",
   "id": "adf740f7",
   "metadata": {},
   "source": [
    "- So it’s like saying:\n",
    "```r\n",
    "group_by(df, group)\n",
    "```\n"
   ]
  },
  {
   "cell_type": "markdown",
   "id": "65ecb5c7",
   "metadata": {},
   "source": [
    "###  Step 2: `group_by(group)`"
   ]
  },
  {
   "cell_type": "markdown",
   "id": "b060031d",
   "metadata": {},
   "source": [
    "- This groups your data by the values in the `group` column.\n",
    "- it returns a grouped data frame, which looks like the original data but with a \"**Groups:**\" message at the top.\n",
    "- Because grouping is just **metadata** — it tells the next functions (summarise, mutate, etc.) how to behave."
   ]
  },
  {
   "cell_type": "markdown",
   "id": "ad28a788",
   "metadata": {},
   "source": [
    "###  Step 3: summarise(avg_score = mean(score), count = n())\n",
    "- This creates a summary table with one row per group.\n",
    " "
   ]
  },
  {
   "cell_type": "markdown",
   "id": "99ac2aa0",
   "metadata": {},
   "source": [
    "___"
   ]
  },
  {
   "cell_type": "markdown",
   "id": "4d4fc76e",
   "metadata": {},
   "source": [
    "1. **arrange()**  \n",
    "  - Sort the data\n",
    "  - `df %>% arrange(score)`\n",
    "  - `df %>% arrange(desc(score))`\n",
    "2. **rename()**\n",
    "  - Rename columns\n",
    "  - `df %>% rename(final_score=score)`\n",
    "3.  **distinct()**\n",
    "  - Remove duplicates\n",
    "  - `df %>% distinct(group)`\n",
    "4.  **slice()**\n",
    "  -  Select rows by position\n",
    "  - `df %>% slice(1)` # first row\n",
    "  - `df %>% slice(1:2)`    # First two rows\n",
    "  "
   ]
  },
  {
   "cell_type": "markdown",
   "id": "291a8b89",
   "metadata": {},
   "source": [
    "5. **pull()** \n",
    "  - Extract a column as a **vector**\n",
    "  - Useful for quick plots or modeling:\n",
    "  - `df %>% pull(score)`"
   ]
  },
  {
   "cell_type": "markdown",
   "id": "8c84d6f5",
   "metadata": {},
   "source": [
    "6. **case_when()**\n",
    " - Multiple conditions (like SQL CASE)\n",
    "```r\n",
    "df %>% mutate(\n",
    "  grade = case_when(\n",
    "    score >= 90 ~ \"A\",\n",
    "    score >= 80 ~ \"B\",\n",
    "    TRUE ~ \"C\"\n",
    "  )\n",
    ")\n",
    "\n"
   ]
  },
  {
   "cell_type": "markdown",
   "id": "4c7b9c54",
   "metadata": {},
   "source": [
    "7. **across()**\n",
    " - Apply functions to multiple columns (powerful!)"
   ]
  },
  {
   "cell_type": "markdown",
   "id": "483a6157",
   "metadata": {},
   "source": [
    "- `df %>% mutate(across(c(age, score), log))`   # log-transform age and score\n"
   ]
  },
  {
   "cell_type": "markdown",
   "id": "62143bcf",
   "metadata": {},
   "source": [
    "___"
   ]
  },
  {
   "cell_type": "markdown",
   "id": "38f68bc1",
   "metadata": {},
   "source": [
    "1. **joins**\n",
    "   - left_join()\tKeep all from left, match from right\n",
    "   - right_join()\tKeep all from right\n",
    "   - inner_join()\tKeep matching rows only\n",
    "   - full_join()\tKeep all rows from both\n",
    "   - anti_join()\tKeep only rows that don’t match"
   ]
  },
  {
   "cell_type": "markdown",
   "id": "393d153e",
   "metadata": {},
   "source": [
    "```r\n",
    "left_join(df1, df2, by = \"id\")\n"
   ]
  },
  {
   "cell_type": "markdown",
   "id": "9a23dfb6",
   "metadata": {},
   "source": [
    "2.  **Binding & combining data frames**\n",
    "  - bind_rows(df1, df2) – Stack rows (like rbind)\n",
    "  - bind_cols(df1, df2) – Add columns side by side (like cbind)\n",
    "\n"
   ]
  },
  {
   "cell_type": "markdown",
   "id": "bbefa3ba",
   "metadata": {},
   "source": [
    "3. **Handling missing values**\n",
    "  - is.na() – Detect NAs\n",
    "  - filter(!is.na(score)) – Keep only rows where score is not NA\n",
    "  - mutate(score = ifelse(is.na(score), 0, score)) – Replace NA with 0\n",
    "  - drop_na() from **tidyr** – Drop rows with any NAs"
   ]
  },
  {
   "cell_type": "markdown",
   "id": "b947170a",
   "metadata": {},
   "source": [
    "___"
   ]
  },
  {
   "cell_type": "markdown",
   "id": "c5ef4a67",
   "metadata": {},
   "source": [
    "4. **Pivoting (reshaping data) – from wide to long and vice versa**\n",
    " - "
   ]
  },
  {
   "cell_type": "markdown",
   "id": "da1bc1e4",
   "metadata": {},
   "source": [
    "- A `tibble` is a modern version of a **data frame**, provided by the tibble package (part of the `tidyverse`). It's designed to be more user-friendly, consistent, and robust than base R data frames."
   ]
  },
  {
   "cell_type": "markdown",
   "id": "d98b3821",
   "metadata": {},
   "source": [
    "##### wide format"
   ]
  },
  {
   "cell_type": "markdown",
   "id": "dc017990",
   "metadata": {},
   "source": [
    "```r\n",
    "df_wide <- tibble(\n",
    "  name = c(\"Alice\", \"Bob\", \"Charlie\"),\n",
    "  math = c(85, 90, 88),\n",
    "  science = c(92, 87, 91)\n",
    ")"
   ]
  },
  {
   "cell_type": "markdown",
   "id": "795dc745",
   "metadata": {},
   "source": [
    "```r\n",
    "# A tibble: 3 × 3\n",
    "  name    math science\n",
    "  <chr>  <dbl>   <dbl>\n",
    "1 Alice     85      92\n",
    "2 Bob       90      87\n",
    "3 Charlie   88      91\n"
   ]
  },
  {
   "cell_type": "markdown",
   "id": "d5847e76",
   "metadata": {},
   "source": [
    "#### Convert to Long Format – pivot_longer()\n"
   ]
  },
  {
   "cell_type": "markdown",
   "id": "be58c9fd",
   "metadata": {},
   "source": [
    "```r\n",
    "df_long <- df_wide %>%\n",
    "  pivot_longer(cols = c(math, science),\n",
    "               names_to = \"subject\",\n",
    "               values_to = \"score\")\n",
    "\n",
    "df_long\n",
    "\n",
    "# A tibble: 6 × 3\n",
    "  name    subject score\n",
    "  <chr>   <chr>   <dbl>\n",
    "1 Alice   math       85\n",
    "2 Alice   science    92\n",
    "3 Bob     math       90\n",
    "4 Bob     science    87\n",
    "5 Charlie math       88\n",
    "6 Charlie science    91\n"
   ]
  },
  {
   "cell_type": "markdown",
   "id": "2a82e545",
   "metadata": {},
   "source": [
    "```r\n",
    "df_wide_back <- df_long %>%\n",
    "  pivot_wider(names_from = subject,\n",
    "              values_from = score)\n",
    "\n",
    "df_wide_back\n",
    "\n",
    "# A tibble: 3 × 3\n",
    "  name    math science\n",
    "  <chr>  <dbl>   <dbl>\n",
    "1 Alice     85      92\n",
    "2 Bob       90      87\n",
    "3 Charlie   88      91\n"
   ]
  },
  {
   "cell_type": "markdown",
   "id": "c22424a9",
   "metadata": {},
   "source": [
    "___"
   ]
  },
  {
   "cell_type": "markdown",
   "id": "acfe35ee",
   "metadata": {},
   "source": [
    "5. Nesting & grouped operations"
   ]
  },
  {
   "cell_type": "markdown",
   "id": "98b9810d",
   "metadata": {},
   "source": [
    "```r\n",
    "df %>%\n",
    "  group_by(group) %>%\n",
    "  nest()     # Turns each group into its own tibble\n"
   ]
  },
  {
   "cell_type": "markdown",
   "id": "2bbee512",
   "metadata": {},
   "source": []
  }
 ],
 "metadata": {
  "language_info": {
   "name": "python"
  }
 },
 "nbformat": 4,
 "nbformat_minor": 5
}
