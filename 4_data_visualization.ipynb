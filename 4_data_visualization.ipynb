{
 "cells": [
  {
   "cell_type": "markdown",
   "id": "6e998e00",
   "metadata": {},
   "source": [
    "🧱 1. ggplot2 Grammar of Graphics Basics"
   ]
  },
  {
   "cell_type": "markdown",
   "id": "a45e655c",
   "metadata": {},
   "source": [
    "```r\n",
    "ggplot(data) +\n",
    "  aes(x = ..., y = ...) +\n",
    "  geom_...(other options)\n"
   ]
  },
  {
   "cell_type": "markdown",
   "id": "f1186f27",
   "metadata": {},
   "source": [
    "___"
   ]
  },
  {
   "cell_type": "markdown",
   "id": "0dba0e2d",
   "metadata": {},
   "source": []
  },
  {
   "cell_type": "markdown",
   "id": "13bbd2af",
   "metadata": {},
   "source": [
    "### 📈 Scatter Plot\n"
   ]
  },
  {
   "cell_type": "markdown",
   "id": "58bb71e2",
   "metadata": {},
   "source": [
    "```r\n",
    "ggplot(df, aes(x = name, y = score)) +\n",
    "  geom_point()\n"
   ]
  },
  {
   "cell_type": "markdown",
   "id": "7c14a65d",
   "metadata": {},
   "source": [
    "### 📊 Bar Chart"
   ]
  },
  {
   "cell_type": "markdown",
   "id": "703dbe23",
   "metadata": {},
   "source": [
    "```r\n",
    "ggplot(df, aes(x = name, y = score)) +\n",
    "  geom_bar(stat = \"identity\")   # use stat = \"identity\" to show actual values\n"
   ]
  },
  {
   "cell_type": "markdown",
   "id": "64d91422",
   "metadata": {},
   "source": [
    " ### 🎨 Colored Bar Chart by Subject\n"
   ]
  },
  {
   "cell_type": "markdown",
   "id": "7a0b70f3",
   "metadata": {},
   "source": [
    "```r\n",
    "ggplot(df, aes(x = name, y = score, fill = subject)) +\n",
    "  geom_bar(stat = \"identity\")\n"
   ]
  },
  {
   "cell_type": "markdown",
   "id": "ee603aed",
   "metadata": {},
   "source": [
    "### 📉 Line Plot\n",
    "```r\n",
    "ggplot(df, aes(x = name, y = score, group = 1)) +\n",
    "  geom_line() +\n",
    "  geom_point()"
   ]
  },
  {
   "cell_type": "markdown",
   "id": "06ff793c",
   "metadata": {},
   "source": [
    "___"
   ]
  },
  {
   "cell_type": "markdown",
   "id": "b1741980",
   "metadata": {},
   "source": [
    "###  4. Customizing the Plot"
   ]
  },
  {
   "cell_type": "markdown",
   "id": "9ee4f8c3",
   "metadata": {},
   "source": [
    "```r\n",
    "ggplot(df, aes(x = name, y = score)) +\n",
    "  geom_bar(stat = \"identity\", fill = \"steelblue\") +\n",
    "  labs(title = \"Student Scores\", x = \"Student\", y = \"Score\")\n"
   ]
  },
  {
   "cell_type": "markdown",
   "id": "8bda4f38",
   "metadata": {},
   "source": [
    "### Theme\n",
    "```r\n",
    "ggplot(df, aes(x = name, y = score)) +\n",
    "  geom_bar(stat = \"identity\", fill = \"skyblue\") +\n",
    "  theme_minimal()\n"
   ]
  },
  {
   "cell_type": "markdown",
   "id": "60debba5",
   "metadata": {},
   "source": [
    "### 🧠 5. Faceting (Subplots)"
   ]
  },
  {
   "cell_type": "markdown",
   "id": "fd3aa195",
   "metadata": {},
   "source": []
  }
 ],
 "metadata": {
  "language_info": {
   "name": "python"
  }
 },
 "nbformat": 4,
 "nbformat_minor": 5
}
