{
 "cells": [
  {
   "cell_type": "markdown",
   "id": "ae95174b",
   "metadata": {},
   "source": [
    "### 6. Window Functions – Rank, lag, lead, rolling operations"
   ]
  },
  {
   "cell_type": "markdown",
   "id": "1da9f068",
   "metadata": {},
   "source": [
    "```r\n",
    "df %>%\n",
    "  group_by(group) %>%\n",
    "  mutate(\n",
    "    rank = rank(score),\n",
    "    prev_score = lag(score),\n",
    "    next_score = lead(score)\n",
    "  )\n"
   ]
  },
  {
   "cell_type": "markdown",
   "id": "a469658f",
   "metadata": {},
   "source": [
    "### 7. Categorizing data"
   ]
  },
  {
   "cell_type": "markdown",
   "id": "c32a9a7e",
   "metadata": {},
   "source": [
    "`cut()` – Bin continuous variables into categories"
   ]
  },
  {
   "cell_type": "markdown",
   "id": "16be5efa",
   "metadata": {},
   "source": [
    "```r\n",
    "df %>% mutate(score_band = cut(score, breaks = c(0, 60, 80, 100), labels = c(\"Low\", \"Medium\", \"High\")))\n"
   ]
  },
  {
   "cell_type": "markdown",
   "id": "726300a7",
   "metadata": {},
   "source": []
  }
 ],
 "metadata": {
  "language_info": {
   "name": "python"
  }
 },
 "nbformat": 4,
 "nbformat_minor": 5
}
