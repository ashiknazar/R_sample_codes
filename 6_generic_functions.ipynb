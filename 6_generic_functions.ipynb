{
 "cells": [
  {
   "cell_type": "markdown",
   "id": "7fd581cc",
   "metadata": {},
   "source": [
    "## 🧠 Understanding Generic Functions in R"
   ]
  },
  {
   "cell_type": "markdown",
   "id": "9d49132c",
   "metadata": {},
   "source": [
    "- A generic function in R is a smart function that automatically calls a more specific version of itself based on the class (type) of the object you give it."
   ]
  },
  {
   "cell_type": "markdown",
   "id": "47483989",
   "metadata": {},
   "source": [
    "- It's a key feature of polymorphism in object-oriented programming — meaning:\n",
    "\n",
    ">“Same function name, different behaviors based on input type.”\n",
    "\n"
   ]
  },
  {
   "cell_type": "markdown",
   "id": "2cd5d56a",
   "metadata": {},
   "source": [
    "___"
   ]
  },
  {
   "cell_type": "markdown",
   "id": "64d0b3c4",
   "metadata": {},
   "source": [
    "### Example"
   ]
  },
  {
   "cell_type": "markdown",
   "id": "9a6698b6",
   "metadata": {},
   "source": [
    "```r\n",
    "summary(my_data)\n"
   ]
  },
  {
   "cell_type": "markdown",
   "id": "1fd74930",
   "metadata": {},
   "source": [
    "- R checks what kind of object my_data is:\n",
    "\n",
    "  - If it’s a data frame, it uses summary.data.frame()\n",
    "\n",
    "  - If it’s a linear model, it uses summary.lm()\n",
    "\n",
    "  - If it’s a vector, it uses summary.default()"
   ]
  },
  {
   "cell_type": "markdown",
   "id": "2796b963",
   "metadata": {},
   "source": [
    "#### ⚙️ How It Works (Internally)"
   ]
  },
  {
   "cell_type": "markdown",
   "id": "a6fe72a5",
   "metadata": {},
   "source": [
    "```r\n",
    "summary <- function(object) {\n",
    "  UseMethod(\"summary\")  # Dispatch based on class(object)\n",
    "}\n"
   ]
  },
  {
   "cell_type": "markdown",
   "id": "c60ca34a",
   "metadata": {},
   "source": [
    "#### 🧪 Custom Example"
   ]
  },
  {
   "cell_type": "markdown",
   "id": "127a34ce",
   "metadata": {},
   "source": [
    "```r\n",
    "describe <- function(x) UseMethod(\"describe\")\n",
    "\n",
    "describe.character <- function(x) paste(\"This is text:\", x)\n",
    "describe.numeric <- function(x) paste(\"This is a number:\", x)\n",
    "\n",
    "describe(\"R\")      # calls describe.character\n",
    "describe(42)       # calls describe.numeric\n"
   ]
  },
  {
   "cell_type": "markdown",
   "id": "cfba836a",
   "metadata": {},
   "source": [
    "___"
   ]
  },
  {
   "cell_type": "markdown",
   "id": "f8f52aed",
   "metadata": {},
   "source": [
    "- **UseMethod()** is a built-in function in R that performs S3 method dispatch.\n",
    "- It is the engine that powers a generic function in the S3 object system.\n",
    "- When you call a generic function (like summary()), UseMethod() looks at the class of the first argument and sends the call to the appropriate class-specific method.\n"
   ]
  },
  {
   "cell_type": "markdown",
   "id": "fc793da6",
   "metadata": {},
   "source": [
    "#### 🧾 Syntax"
   ]
  },
  {
   "cell_type": "markdown",
   "id": "1f1f7b6b",
   "metadata": {},
   "source": [
    "```r\n",
    "myGenericFunction <- function(x) {\n",
    "  UseMethod(\"myGenericFunction\")\n",
    "}\n"
   ]
  },
  {
   "cell_type": "markdown",
   "id": "8181e2f7",
   "metadata": {},
   "source": [
    "- Now, when you call myGenericFunction(someObject), R will:\n",
    "  - Check the class of someObject\n",
    "  - Try to call myGenericFunction.className()\n",
    "  - If not found, it will try myGenericFunction.default()"
   ]
  },
  {
   "cell_type": "markdown",
   "id": "73ed28e9",
   "metadata": {},
   "source": [
    "#### 🧪 Example"
   ]
  },
  {
   "cell_type": "markdown",
   "id": "c6d27988",
   "metadata": {},
   "source": [
    "```r\n",
    "greet <- function(x) UseMethod(\"greet\")\n",
    "\n",
    "greet.character <- function(x) paste(\"Hello,\", x)\n",
    "greet.numeric <- function(x) paste(\"Number greetings to\", x)\n",
    "greet.default <- function(x) \"Hello, stranger\"\n",
    "\n",
    "greet(\"Alice\")   # \"Hello, Alice\"\n",
    "greet(42)        # \"Number greetings to 42\"\n",
    "greet(TRUE)      # \"Hello, stranger\"\n"
   ]
  },
  {
   "cell_type": "markdown",
   "id": "eade395d",
   "metadata": {},
   "source": [
    "___"
   ]
  },
  {
   "cell_type": "markdown",
   "id": "de85b63e",
   "metadata": {},
   "source": [
    "- Generic functions enable polymorphism.\n",
    "\n",
    "- S3 uses UseMethod() for dispatch.\n",
    "\n",
    "- S4 uses setGeneric() and setMethod()"
   ]
  },
  {
   "cell_type": "markdown",
   "id": "98757dfc",
   "metadata": {},
   "source": []
  }
 ],
 "metadata": {
  "language_info": {
   "name": "python"
  }
 },
 "nbformat": 4,
 "nbformat_minor": 5
}
